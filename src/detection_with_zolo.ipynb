{
 "cells": [
  {
   "cell_type": "code",
   "execution_count": 1,
   "metadata": {},
   "outputs": [],
   "source": [
    "import cv2\n",
    "import numpy as np\n",
    "import mediapipe as mp\n",
    "import matplotlib.pyplot as plt\n",
    "\n",
    "import seaborn as sns\n",
    "import networkx as nx\n",
    "import pickle"
   ]
  },
  {
   "cell_type": "markdown",
   "metadata": {},
   "source": [
    "Changing video path will change paths in entire code"
   ]
  },
  {
   "cell_type": "code",
   "execution_count": 15,
   "metadata": {},
   "outputs": [],
   "source": [
    "\n",
    "input_video_path = '/Users/suryanshpatel/Projects/Pose_detection/videos/Squats/Videos/actual/correct-squat-side-view (online-video-cutter.com).mp4'\n",
    "output_folder = '/Users/suryanshpatel/Projects/Pose_detection/Frames/annotated_frames/af6'\n",
    "coordinates_folder = '/Users/suryanshpatel/Projects/Pose_detection/Frames/plots/co6'\n",
    "output_video_path = '/Users/suryanshpatel/Projects/Pose_detection/videos/pose_detection_yolo.mp4'"
   ]
  },
  {
   "cell_type": "markdown",
   "metadata": {},
   "source": [
    "Load YOLO Model"
   ]
  },
  {
   "cell_type": "code",
   "execution_count": 10,
   "metadata": {},
   "outputs": [],
   "source": [
    "net = cv2.dnn.readNet('/Users/suryanshpatel/Projects/Pose_detection/yolo/yolov3.weights', '/Users/suryanshpatel/Projects/Pose_detection/yolo/yolov3.cfg')\n",
    "layer_names = net.getLayerNames()\n",
    "\n",
    "# Adjust indexing to handle both cases where net.getUnconnectedOutLayers() returns a 1D or 2D array\n",
    "try:\n",
    "    output_layers = [layer_names[i[0] - 1] for i in net.getUnconnectedOutLayers()]\n",
    "except IndexError:\n",
    "    output_layers = [layer_names[i - 1] for i in net.getUnconnectedOutLayers()]"
   ]
  },
  {
   "cell_type": "markdown",
   "metadata": {},
   "source": [
    "Load Medipipe Poses for detection"
   ]
  },
  {
   "cell_type": "code",
   "execution_count": 11,
   "metadata": {},
   "outputs": [
    {
     "name": "stderr",
     "output_type": "stream",
     "text": [
      "WARNING: All log messages before absl::InitializeLog() is called are written to STDERR\n",
      "I0000 00:00:1718864293.954894 5239358 gl_context.cc:357] GL version: 2.1 (2.1 Metal - 88.1), renderer: Apple M2\n"
     ]
    },
    {
     "name": "stderr",
     "output_type": "stream",
     "text": [
      "INFO: Created TensorFlow Lite XNNPACK delegate for CPU.\n",
      "W0000 00:00:1718864294.046200 5244945 inference_feedback_manager.cc:114] Feedback manager requires a model with a single signature inference. Disabling support for feedback tensors.\n",
      "W0000 00:00:1718864294.057686 5244946 inference_feedback_manager.cc:114] Feedback manager requires a model with a single signature inference. Disabling support for feedback tensors.\n"
     ]
    }
   ],
   "source": [
    "# Initialize MediaPipe Pose\n",
    "mp_drawing = mp.solutions.drawing_utils\n",
    "mp_pose = mp.solutions.pose\n",
    "pose = mp_pose.Pose()"
   ]
  },
  {
   "cell_type": "markdown",
   "metadata": {},
   "source": [
    "Structure in which we are capturing the data"
   ]
  },
  {
   "cell_type": "code",
   "execution_count": 12,
   "metadata": {},
   "outputs": [],
   "source": [
    "class PoseLandmark:\n",
    "    def __init__(self, x, y, visibility, box_dimensions):\n",
    "        self._x = x\n",
    "        self._y = y\n",
    "        # self._z = z\n",
    "        self._visibility = visibility\n",
    "        self._box_dimensions = box_dimensions  # New field\n",
    "\n",
    "    # Getters\n",
    "    def get_x(self):\n",
    "        return self._x\n",
    "\n",
    "    def get_y(self):\n",
    "        return self._y\n",
    "\n",
    "    # def get_z(self):\n",
    "    #     return self._z\n",
    "\n",
    "    def get_visibility(self):\n",
    "        return self._visibility\n",
    "\n",
    "    def get_box_dimensions(self):\n",
    "        return self._box_dimensions\n",
    "\n",
    "    # Setters\n",
    "    def set_x(self, x):\n",
    "        self._x = x\n",
    "\n",
    "    def set_y(self, y):\n",
    "        self._y = y\n",
    "\n",
    "    # def set_z(self, z):\n",
    "    #     self._z = z\n",
    "\n",
    "    def set_visibility(self, visibility):\n",
    "        self._visibility = visibility\n",
    "\n",
    "    def set_box_dimensions(self, box_dimensions):\n",
    "        self._box_dimensions = box_dimensions\n",
    "\n",
    "    # __str__ method for string representation\n",
    "    def __str__(self):\n",
    "        return (f\"PoseLandmark(x={self._x}, y={self._y},  \" #z={self._z} ,\n",
    "                f\"visibility={self._visibility}, box_dimensions={self._box_dimensions})\")\n",
    "\n",
    "    # Normalize joint coordinates based on bounding box dimensions\n",
    "    def normalize(self):\n",
    "        x, y, w, h = self._box_dimensions\n",
    "        norm_x = (self._x - x) / w if w != 0 else 0\n",
    "        norm_y = (self._y - y) / h if h != 0 else 0\n",
    "        return PoseLandmark(norm_x, norm_y,  self._visibility, (0, 0, 1, 1))  # normalized box is (0,0,1,1)\n",
    "\n"
   ]
  },
  {
   "cell_type": "markdown",
   "metadata": {},
   "source": [
    "Main driver Code"
   ]
  },
  {
   "cell_type": "code",
   "execution_count": 16,
   "metadata": {},
   "outputs": [
    {
     "name": "stderr",
     "output_type": "stream",
     "text": [
      "/Users/suryanshpatel/Projects/Pose_detection/.venv/lib/python3.12/site-packages/google/protobuf/symbol_database.py:55: UserWarning: SymbolDatabase.GetPrototype() is deprecated. Please use message_factory.GetMessageClass() instead. SymbolDatabase.GetPrototype() will be removed soon.\n",
      "  warnings.warn('SymbolDatabase.GetPrototype() is deprecated. Please '\n"
     ]
    },
    {
     "name": "stdout",
     "output_type": "stream",
     "text": [
      "All frames object dimensions: (88, 33)\n",
      "Normalized frames object dimensions: (88, 33)\n"
     ]
    }
   ],
   "source": [
    "# Function to process a video and extract joint points and bounding box dimensions\n",
    "def process_video(input_video_path, output_video_path, net, output_layers, pose):\n",
    "    cap = cv2.VideoCapture(input_video_path)\n",
    "    frame_width = int(cap.get(cv2.CAP_PROP_FRAME_WIDTH))\n",
    "    frame_height = int(cap.get(cv2.CAP_PROP_FRAME_HEIGHT))\n",
    "    fps = int(cap.get(cv2.CAP_PROP_FPS))\n",
    "\n",
    "    # Initialize VideoWriter\n",
    "    fourcc = cv2.VideoWriter_fourcc(*'mp4v')  # Codec for mp4 files\n",
    "    # output = cv2.VideoWriter(output_video_path, fourcc, fps, (frame_width, frame_height))\n",
    "\n",
    "\n",
    "    all_frame_data = []\n",
    "\n",
    "    while cap.isOpened():\n",
    "        success, frame = cap.read()\n",
    "        if not success:\n",
    "            break\n",
    "\n",
    "        height, width, channels = frame.shape\n",
    "        blob = cv2.dnn.blobFromImage(frame, 0.00392, (416, 416), (0, 0, 0), True, crop=False)\n",
    "        net.setInput(blob)\n",
    "        outs = net.forward(output_layers)\n",
    "\n",
    "        # Track the best detection\n",
    "        best_confidence = 0\n",
    "        best_box = None\n",
    "\n",
    "        # Get bounding box for the person with the highest confidence\n",
    "        for out in outs:\n",
    "            for detection in out:\n",
    "                scores = detection[5:]\n",
    "                class_id = np.argmax(scores)\n",
    "                confidence = scores[class_id]\n",
    "                if class_id == 0 and confidence > best_confidence:  # Class 0 is for person\n",
    "                    best_confidence = confidence\n",
    "                    center_x = int(detection[0] * width)\n",
    "                    center_y = int(detection[1] * height)\n",
    "                    w = int(detection[2] * width)\n",
    "                    h = int(detection[3] * height)\n",
    "                    x = max(0, int(center_x - w / 2))\n",
    "                    y = max(0, int(center_y - h / 2))\n",
    "                    w = min(w, width - x)\n",
    "                    h = min(h, height - y)\n",
    "                    best_box = (x, y, w, h)\n",
    "\n",
    "        if best_box:\n",
    "            x, y, w, h = best_box\n",
    "\n",
    "            # Extract the region within the bounding box\n",
    "            roi = frame[y:y+h, x:x+w]\n",
    "\n",
    "            if roi.size == 0:  # Check if the ROI is empty\n",
    "                continue\n",
    "\n",
    "            # Process the region with MediaPipe for pose estimation\n",
    "            rgb_frame = cv2.cvtColor(roi, cv2.COLOR_BGR2RGB)\n",
    "            results = pose.process(rgb_frame)\n",
    "\n",
    "            # Capture joint points\n",
    "            single_frame_data = []\n",
    "            if results.pose_landmarks:\n",
    "                for landmark in results.pose_landmarks.landmark:\n",
    "                    single_frame_data.append(PoseLandmark(landmark.x * w + x , landmark.y * h + y , landmark.visibility ,(x, y, w, h)))\n",
    "                   \n",
    "            #Surya - don't want to normalize now store as it is as we are storing box dimentions as well\n",
    "            #  Normalize joint points within bounding box\n",
    "            # normalized_points = normalize_joint_points_within_box(joint_points, (x, y, w, h))\n",
    "            # all_joint_points.append(normalized_points)\n",
    "        \n",
    "\n",
    "            # Check if the number of joints detected is consistent\n",
    "            if len(single_frame_data) == 33:  # Adjust 33 to your actual expected number of joints\n",
    "                all_frame_data.append(single_frame_data)\n",
    "            else:\n",
    "                print(f\"Skipping frame {len(all_frame_data) + 1} due to incomplete data: {len(single_frame_data)} joints\")\n",
    "\n",
    "            # Draw the bounding box\n",
    "            cv2.rectangle(frame, (x, y), (x + w, y + h), (0, 255, 0), 2)\n",
    "\n",
    "            # Draw the pose annotation on the image\n",
    "            if results.pose_landmarks:\n",
    "                mp.solutions.drawing_utils.draw_landmarks(roi, results.pose_landmarks, mp.solutions.pose.POSE_CONNECTIONS)\n",
    "\n",
    "        # Write the frame to the output video\n",
    "        # output.write(frame)\n",
    "\n",
    "        # Optionally display the image\n",
    "        cv2.imshow('Pose Detection', frame)\n",
    "        if cv2.waitKey(5) & 0xFF == 27:  # Press 'Esc' to exit\n",
    "            break\n",
    "\n",
    "    # Release resources\n",
    "    cap.release()\n",
    "    # output.release()\n",
    "    cv2.destroyAllWindows()\n",
    "\n",
    "    # Convert lists to NumPy arrays\n",
    "    all_frame_data = np.array(all_frame_data, dtype=object)\n",
    "\n",
    "\n",
    "    return all_frame_data\n",
    "\n",
    "\n",
    "# Normalizes each frame data based on bounding box instead of frame\n",
    "def normalize_frame_data(frame_data):\n",
    "    normalized_data = []\n",
    "    for frame in frame_data:\n",
    "        normalized_frame = [landmark.normalize() for landmark in frame]\n",
    "        normalized_data.append(normalized_frame)\n",
    "    return np.array(normalized_data, dtype=object)\n",
    "\n",
    "\n",
    "\n",
    "# Process the video\n",
    "all_frame_data = process_video(input_video_path, output_video_path, net, output_layers, pose)\n",
    "\n",
    "# Normalize the extracted data\n",
    "normalized_data = normalize_frame_data(all_frame_data)\n",
    "\n",
    "# Print shapes of extracted and normalized data\n",
    "print(\"All frames object dimensions:\", all_frame_data.shape)\n",
    "print(\"Normalized frames object dimensions:\", normalized_data.shape)\n"
   ]
  },
  {
   "cell_type": "markdown",
   "metadata": {},
   "source": [
    "save coodinates"
   ]
  },
  {
   "cell_type": "code",
   "execution_count": 17,
   "metadata": {},
   "outputs": [],
   "source": [
    "# np.save('/Users/suryanshpatel/Projects/Pose_detection/npArrays/incorrect_squats.npy' , normalized_data)\n",
    "# incorrect_squats = normalized_data.copy()\n",
    "correct_squats = normalized_data.copy()\n"
   ]
  },
  {
   "cell_type": "markdown",
   "metadata": {},
   "source": [
    "plot 2 exercise coodinates against each other"
   ]
  },
  {
   "cell_type": "code",
   "execution_count": 18,
   "metadata": {},
   "outputs": [],
   "source": [
    "'''\n",
    "change last 2 lines to alter data points for x,y extraction\n",
    "'''\n",
    "def extract_coordinates(pose_data):\n",
    "    num_frames = len(pose_data)\n",
    "    num_joints = len(pose_data[0])\n",
    "    \n",
    "    # Initialize an empty array to hold the coordinates\n",
    "    coordinates = np.zeros((num_frames, num_joints, 2))\n",
    "    \n",
    "    for i, frame in enumerate(pose_data):\n",
    "        for j, landmark in enumerate(frame):\n",
    "            coordinates[i, j, 0] = landmark.get_x()\n",
    "            coordinates[i, j, 1] = landmark.get_y()\n",
    "    \n",
    "    return coordinates\n",
    "\n",
    "# Example usage\n",
    "# Assuming pose_data_video1 and pose_data_video2 are lists of lists of PoseLandmark instances\n",
    "coordinates_video1 = extract_coordinates(correct_squats)\n",
    "coordinates_video2 = extract_coordinates(incorrect_squats)\n"
   ]
  },
  {
   "cell_type": "code",
   "execution_count": null,
   "metadata": {},
   "outputs": [],
   "source": [
    "# Plot based on above extract values\n",
    "def plot_joint_movements_side_by_side(normalized_data1, normalized_data2, title1, title2):\n",
    "    num_joints = normalized_data1.shape[1]  # Number of joints\n",
    "    num_frames1 = normalized_data1.shape[0]\n",
    "    num_frames2 = normalized_data2.shape[0]\n",
    "    \n",
    "    plt.figure(figsize=(20, 10))\n",
    "    \n",
    "    for i in range(num_joints):\n",
    "        plt.subplot(6, 6, i + 1)  # Assuming there are at most 36 joints for a 6x6 grid\n",
    "\n",
    "        # Plot for video 1\n",
    "        plt.plot(range(num_frames1), normalized_data1[:, i], 'b-', label=title1 if i == 0 else \"\")\n",
    "        \n",
    "        # Plot for video 2\n",
    "        plt.plot(range(num_frames2), normalized_data2[:, i], 'r-', label=title2 if i == 0 else \"\")\n",
    "        \n",
    "        plt.title(f'Joint {i + 1}')\n",
    "        plt.xlabel('Frame')\n",
    "        plt.ylabel('Value')\n",
    "        \n",
    "    plt.suptitle(f'Joint Movements: {title1} (Blue) vs {title2} (Red)', fontsize=16)\n",
    "    plt.legend(loc='upper right')\n",
    "    plt.tight_layout(rect=[0, 0, 1, 0.96])\n",
    "    plt.show()\n",
    "\n",
    "\n",
    "# Example usage\n",
    "plot_joint_movements_side_by_side(coordinates_video1, coordinates_video2, \"corrrect\", \"incorrect\")\n"
   ]
  },
  {
   "cell_type": "markdown",
   "metadata": {},
   "source": [
    "Compare actual data v/s normalized data\n",
    "\n",
    "Compare some values from the original and normalized arrays.\n",
    "\n",
    ":param original_data: List of lists of PoseLandmark objects (original data).\n",
    ":param normalized_data: List of lists of PoseLandmark objects (normalized data).\n",
    ":param num_samples: Number of samples to compare from each array.\n"
   ]
  },
  {
   "cell_type": "code",
   "execution_count": null,
   "metadata": {},
   "outputs": [],
   "source": [
    "def compare_landmark_values(original_data, normalized_data, num_samples=5):\n",
    " \n",
    "    num_frames = min(len(original_data), len(normalized_data))\n",
    "\n",
    "    print(\"Comparing some values from the original and normalized data:\")\n",
    "    for i in range(min(num_samples, num_frames)):\n",
    "        print(f\"\\nFrame {i + 1}:\")\n",
    "        original_frame = original_data[i]\n",
    "        normalized_frame = normalized_data[i]\n",
    "        \n",
    "        num_landmarks = min(len(original_frame), len(normalized_frame))\n",
    "        for j in range(min(num_samples, num_landmarks)):\n",
    "            original_landmark = original_frame[j]\n",
    "            normalized_landmark = normalized_frame[j]\n",
    "\n",
    "            print(f\"  Landmark {j + 1}:\")\n",
    "            print(f\"    Original: x={original_landmark.get_x()}, y={original_landmark.get_y()}, \"\n",
    "                  f\"visibility={original_landmark.get_visibility()}\")\n",
    "            print(f\"    Normalized: x={normalized_landmark.get_x()}, y={normalized_landmark.get_y()}, \"\n",
    "                  f\"visibility={normalized_landmark.get_visibility()}\")\n",
    "\n",
    "\n",
    "# Example usage\n",
    "compare_landmark_values(all_frame_data, normalized_data, num_samples=5)\n"
   ]
  },
  {
   "cell_type": "markdown",
   "metadata": {},
   "source": [
    "Plots for each joints"
   ]
  },
  {
   "cell_type": "markdown",
   "metadata": {},
   "source": [
    "plot every joint and print trejectory for individual exercise"
   ]
  },
  {
   "cell_type": "code",
   "execution_count": null,
   "metadata": {},
   "outputs": [],
   "source": [
    "\n",
    "\n",
    "# Example function to extract data from all_frame_data\n",
    "def extract_joint_data(all_frame_data):\n",
    "    num_frames = all_frame_data.shape[0]\n",
    "    num_joints = len(all_frame_data[0])  # Assuming all frames have the same number of joints\n",
    "    \n",
    "    # Initialize lists to store joint coordinates across frames\n",
    "    joint_x = [[] for _ in range(num_joints)]\n",
    "    joint_y = [[] for _ in range(num_joints)]\n",
    "    \n",
    "    # Iterate through each frame and each joint to extract coordinates\n",
    "    for frame_idx in range(num_frames):\n",
    "        frame = all_frame_data[frame_idx]\n",
    "        for joint_idx in range(num_joints):\n",
    "            landmark = frame[joint_idx]\n",
    "            joint_x[joint_idx].append(landmark.get_x())  # Replace with actual method to get x coordinate\n",
    "            joint_y[joint_idx].append(landmark.get_y())  # Replace with actual method to get y coordinate\n",
    "    \n",
    "    # Convert lists to NumPy arrays for plotting convenience\n",
    "    joint_x = np.array(joint_x)\n",
    "    joint_y = np.array(joint_y)\n",
    "    \n",
    "    return joint_x, joint_y\n",
    "\n",
    "# Example usage\n",
    "joint_x, joint_y = extract_joint_data(normalized_data)\n",
    "\n",
    "# Plotting pair plot for all joints with arrows between consecutive frames\n",
    "num_joints = joint_x.shape[0]\n",
    "plt.figure(figsize=(15, 15))\n",
    "for i in range(num_joints):\n",
    "    plt.subplot(6, 6, i + 1)\n",
    "    \n",
    "    # Scatter plot with arrows between consecutive frames\n",
    "    sns.scatterplot(x=joint_x[i], y=joint_y[i], marker='o', s=10)\n",
    "    for j in range(len(joint_x[i]) - 1):\n",
    "        dx = joint_x[i][j + 1] - joint_x[i][j]\n",
    "        dy = joint_y[i][j + 1] - joint_y[i][j]\n",
    "        plt.arrow(joint_x[i][j], joint_y[i][j], dx * 0.8, dy * 0.8, color='r', head_width=0.002, head_length=0.004)\n",
    "    \n",
    "    plt.title(f'Joint {i + 1}')\n",
    "    plt.xlabel('X coordinate')\n",
    "    plt.ylabel('Y coordinate')\n",
    "plt.tight_layout()\n",
    "plt.show()\n"
   ]
  },
  {
   "cell_type": "markdown",
   "metadata": {},
   "source": [
    "Generate GNN's for this exercise and save for future analysis"
   ]
  },
  {
   "cell_type": "code",
   "execution_count": 35,
   "metadata": {},
   "outputs": [],
   "source": [
    "edges = [\n",
    "    (0, 1), (1, 2), (2, 3), (3, 4), (4, 5), (5, 6), (6, 7), (7, 8), # Head\n",
    "    (9, 10), # Mouth\n",
    "    (11, 12), # Shoulders\n",
    "    (11, 13), (13, 15), (15, 17), (15, 19), (15, 21), # Left arm\n",
    "    (12, 14), (14, 16), (16, 18), (16, 20), (16, 22), # Right arm\n",
    "    (11, 23), (12, 24), # Torso\n",
    "    (23, 25), (25, 27), (27, 29), (27, 31), # Left leg\n",
    "    (24, 26), (26, 28), (28, 30), (28, 32)  # Right leg\n",
    "]\n"
   ]
  },
  {
   "cell_type": "code",
   "execution_count": 36,
   "metadata": {},
   "outputs": [],
   "source": [
    "def create_graph_from_joint_points(joint_points, edges):\n",
    "    G = nx.Graph()\n",
    "    \n",
    "    # Add nodes with positions\n",
    "    for i, (x, y) in enumerate(joint_points):\n",
    "        G.add_node(i, pos=(x, y))\n",
    "    \n",
    "    # Add edges based on the body structure\n",
    "    G.add_edges_from(edges)\n",
    "    \n",
    "    return G\n",
    "\n",
    "# Function to convert a sequence of joint points frames into a list of graphs\n",
    "def create_graphs_from_video(joint_points_sequence, edges):\n",
    "    graphs = []\n",
    "    for frame in joint_points_sequence:\n",
    "        graph = create_graph_from_joint_points(frame, edges)\n",
    "        graphs.append(graph)\n",
    "    return graphs\n",
    "\n",
    "# Example usage\n",
    "graphs_video1 = create_graphs_from_video(coordinates_video1, edges)\n",
    "graphs_video2 = create_graphs_from_video(coordinates_video2, edges)\n"
   ]
  },
  {
   "cell_type": "markdown",
   "metadata": {},
   "source": [
    "Corrected Graph visulizations"
   ]
  },
  {
   "cell_type": "code",
   "execution_count": 38,
   "metadata": {},
   "outputs": [
    {
     "data": {
      "image/png": "[encoded data removed]",
      "text/plain": [
       "<Figure size 1000x1000 with 1 Axes>"
      ]
     },
     "metadata": {},
     "output_type": "display_data"
    }
   ],
   "source": [
    "def draw_graph(graph, title=\"Graph Visualization\"):\n",
    "    pos = nx.get_node_attributes(graph, 'pos')\n",
    "    \n",
    "    # Invert y-coordinates\n",
    "    inverted_pos = {node: (x, 1 - y) for node, (x, y) in pos.items()}\n",
    "    \n",
    "    plt.figure(figsize=(10, 10))\n",
    "    nx.draw(graph, inverted_pos, with_labels=True, node_size=300, node_color='skyblue', edge_color='gray', font_size=10, font_color='black')\n",
    "    plt.title(title)\n",
    "    plt.show()\n",
    "\n",
    "def visualize_graph_sequence(graphs, start=0, end=10):\n",
    "    for i in range(start, end):\n",
    "        draw_graph(graphs[i], title=f\"Graph at Frame {i}\")\n",
    "\n",
    "# Example usage to visualize a single graph\n",
    "draw_graph(graphs_video1[0], title=\"Graph at Frame 0 (Video 1)\")\n",
    "\n",
    "# Example usage to visualize a sequence of graphs\n",
    "# visualize_graph_sequence(graphs_video1, start=0, end=5)"
   ]
  },
  {
   "cell_type": "code",
   "execution_count": 39,
   "metadata": {},
   "outputs": [],
   "source": [
    "# save the graph\n",
    "save_location_video1 = '/Users/suryanshpatel/Projects/Pose_detection/videos/Squats/correct_graph.pkl'\n",
    "save_location_video2 = '/Users/suryanshpatel/Projects/Pose_detection/videos/Squats/incorrect_graph.pkl'\n",
    "\n",
    "# Function to save graphs to a file\n",
    "def save_graphs(graphs, filename):\n",
    "    with open(filename, 'wb') as f:\n",
    "        pickle.dump(graphs, f)\n",
    "\n",
    "# Save the graphs for both videos\n",
    "save_graphs(graphs_video1, save_location_video1)\n",
    "save_graphs(graphs_video2, save_location_video2)\n",
    "print('Videos saved success...')"
   ]
  },
  {
   "cell_type": "markdown",
   "metadata": {},
   "source": [
    "Labling the exercise"
   ]
  },
  {
   "cell_type": "code",
   "execution_count": 2,
   "metadata": {},
   "outputs": [],
   "source": [
    "import ssl\n",
    "import certifi\n",
    "\n",
    "# Set the SSL certificate location\n",
    "ssl_context = ssl.create_default_context(cafile=certifi.where())\n"
   ]
  },
  {
   "cell_type": "code",
   "execution_count": 20,
   "metadata": {},
   "outputs": [
    {
     "data": {
      "text/plain": [
       "(88, 33, 2)"
      ]
     },
     "execution_count": 20,
     "metadata": {},
     "output_type": "execute_result"
    }
   ],
   "source": [
    "coordinates_video1.shape\n"
   ]
  },
  {
   "cell_type": "code",
   "execution_count": null,
   "metadata": {},
   "outputs": [],
   "source": []
  },
  {
   "cell_type": "code",
   "execution_count": 21,
   "metadata": {},
   "outputs": [
    {
     "name": "stderr",
     "output_type": "stream",
     "text": [
      "/Users/suryanshpatel/Projects/Pose_detection/.venv/lib/python3.12/site-packages/torchvision/models/_utils.py:208: UserWarning: The parameter 'pretrained' is deprecated since 0.13 and may be removed in the future, please use 'weights' instead.\n",
      "  warnings.warn(\n",
      "/Users/suryanshpatel/Projects/Pose_detection/.venv/lib/python3.12/site-packages/torchvision/models/_utils.py:223: UserWarning: Arguments other than a weight enum or `None` for 'weights' are deprecated since 0.13 and may be removed in the future. The current behavior is equivalent to passing `weights=ResNet50_Weights.IMAGENET1K_V1`. You can also use `weights=ResNet50_Weights.DEFAULT` to get the most up-to-date weights.\n",
      "  warnings.warn(msg)\n"
     ]
    },
    {
     "ename": "RuntimeError",
     "evalue": "Given groups=1, weight of size [64, 3, 7, 7], expected input[1, 88, 33, 2] to have 3 channels, but got 88 channels instead",
     "output_type": "error",
     "traceback": [
      "\u001b[0;31m---------------------------------------------------------------------------\u001b[0m",
      "\u001b[0;31mRuntimeError\u001b[0m                              Traceback (most recent call last)",
      "Cell \u001b[0;32mIn[21], line 22\u001b[0m\n\u001b[1;32m     20\u001b[0m \u001b[38;5;66;03m# Perform inference\u001b[39;00m\n\u001b[1;32m     21\u001b[0m \u001b[38;5;28;01mwith\u001b[39;00m torch\u001b[38;5;241m.\u001b[39mno_grad():\n\u001b[0;32m---> 22\u001b[0m     outputs \u001b[38;5;241m=\u001b[39m \u001b[43mmodel\u001b[49m\u001b[43m(\u001b[49m\u001b[43mdata_tensor\u001b[49m\u001b[43m)\u001b[49m\n\u001b[1;32m     24\u001b[0m \u001b[38;5;66;03m# Example: Get predicted class index (assuming classification task)\u001b[39;00m\n\u001b[1;32m     25\u001b[0m _, predicted \u001b[38;5;241m=\u001b[39m torch\u001b[38;5;241m.\u001b[39mmax(outputs, \u001b[38;5;241m1\u001b[39m)\n",
      "File \u001b[0;32m~/Projects/Pose_detection/.venv/lib/python3.12/site-packages/torch/nn/modules/module.py:1532\u001b[0m, in \u001b[0;36mModule._wrapped_call_impl\u001b[0;34m(self, *args, **kwargs)\u001b[0m\n\u001b[1;32m   1530\u001b[0m     \u001b[38;5;28;01mreturn\u001b[39;00m \u001b[38;5;28mself\u001b[39m\u001b[38;5;241m.\u001b[39m_compiled_call_impl(\u001b[38;5;241m*\u001b[39margs, \u001b[38;5;241m*\u001b[39m\u001b[38;5;241m*\u001b[39mkwargs)  \u001b[38;5;66;03m# type: ignore[misc]\u001b[39;00m\n\u001b[1;32m   1531\u001b[0m \u001b[38;5;28;01melse\u001b[39;00m:\n\u001b[0;32m-> 1532\u001b[0m     \u001b[38;5;28;01mreturn\u001b[39;00m \u001b[38;5;28;43mself\u001b[39;49m\u001b[38;5;241;43m.\u001b[39;49m\u001b[43m_call_impl\u001b[49m\u001b[43m(\u001b[49m\u001b[38;5;241;43m*\u001b[39;49m\u001b[43margs\u001b[49m\u001b[43m,\u001b[49m\u001b[43m \u001b[49m\u001b[38;5;241;43m*\u001b[39;49m\u001b[38;5;241;43m*\u001b[39;49m\u001b[43mkwargs\u001b[49m\u001b[43m)\u001b[49m\n",
      "File \u001b[0;32m~/Projects/Pose_detection/.venv/lib/python3.12/site-packages/torch/nn/modules/module.py:1541\u001b[0m, in \u001b[0;36mModule._call_impl\u001b[0;34m(self, *args, **kwargs)\u001b[0m\n\u001b[1;32m   1536\u001b[0m \u001b[38;5;66;03m# If we don't have any hooks, we want to skip the rest of the logic in\u001b[39;00m\n\u001b[1;32m   1537\u001b[0m \u001b[38;5;66;03m# this function, and just call forward.\u001b[39;00m\n\u001b[1;32m   1538\u001b[0m \u001b[38;5;28;01mif\u001b[39;00m \u001b[38;5;129;01mnot\u001b[39;00m (\u001b[38;5;28mself\u001b[39m\u001b[38;5;241m.\u001b[39m_backward_hooks \u001b[38;5;129;01mor\u001b[39;00m \u001b[38;5;28mself\u001b[39m\u001b[38;5;241m.\u001b[39m_backward_pre_hooks \u001b[38;5;129;01mor\u001b[39;00m \u001b[38;5;28mself\u001b[39m\u001b[38;5;241m.\u001b[39m_forward_hooks \u001b[38;5;129;01mor\u001b[39;00m \u001b[38;5;28mself\u001b[39m\u001b[38;5;241m.\u001b[39m_forward_pre_hooks\n\u001b[1;32m   1539\u001b[0m         \u001b[38;5;129;01mor\u001b[39;00m _global_backward_pre_hooks \u001b[38;5;129;01mor\u001b[39;00m _global_backward_hooks\n\u001b[1;32m   1540\u001b[0m         \u001b[38;5;129;01mor\u001b[39;00m _global_forward_hooks \u001b[38;5;129;01mor\u001b[39;00m _global_forward_pre_hooks):\n\u001b[0;32m-> 1541\u001b[0m     \u001b[38;5;28;01mreturn\u001b[39;00m \u001b[43mforward_call\u001b[49m\u001b[43m(\u001b[49m\u001b[38;5;241;43m*\u001b[39;49m\u001b[43margs\u001b[49m\u001b[43m,\u001b[49m\u001b[43m \u001b[49m\u001b[38;5;241;43m*\u001b[39;49m\u001b[38;5;241;43m*\u001b[39;49m\u001b[43mkwargs\u001b[49m\u001b[43m)\u001b[49m\n\u001b[1;32m   1543\u001b[0m \u001b[38;5;28;01mtry\u001b[39;00m:\n\u001b[1;32m   1544\u001b[0m     result \u001b[38;5;241m=\u001b[39m \u001b[38;5;28;01mNone\u001b[39;00m\n",
      "File \u001b[0;32m~/Projects/Pose_detection/.venv/lib/python3.12/site-packages/torchvision/models/resnet.py:285\u001b[0m, in \u001b[0;36mResNet.forward\u001b[0;34m(self, x)\u001b[0m\n\u001b[1;32m    284\u001b[0m \u001b[38;5;28;01mdef\u001b[39;00m \u001b[38;5;21mforward\u001b[39m(\u001b[38;5;28mself\u001b[39m, x: Tensor) \u001b[38;5;241m-\u001b[39m\u001b[38;5;241m>\u001b[39m Tensor:\n\u001b[0;32m--> 285\u001b[0m     \u001b[38;5;28;01mreturn\u001b[39;00m \u001b[38;5;28;43mself\u001b[39;49m\u001b[38;5;241;43m.\u001b[39;49m\u001b[43m_forward_impl\u001b[49m\u001b[43m(\u001b[49m\u001b[43mx\u001b[49m\u001b[43m)\u001b[49m\n",
      "File \u001b[0;32m~/Projects/Pose_detection/.venv/lib/python3.12/site-packages/torchvision/models/resnet.py:268\u001b[0m, in \u001b[0;36mResNet._forward_impl\u001b[0;34m(self, x)\u001b[0m\n\u001b[1;32m    266\u001b[0m \u001b[38;5;28;01mdef\u001b[39;00m \u001b[38;5;21m_forward_impl\u001b[39m(\u001b[38;5;28mself\u001b[39m, x: Tensor) \u001b[38;5;241m-\u001b[39m\u001b[38;5;241m>\u001b[39m Tensor:\n\u001b[1;32m    267\u001b[0m     \u001b[38;5;66;03m# See note [TorchScript super()]\u001b[39;00m\n\u001b[0;32m--> 268\u001b[0m     x \u001b[38;5;241m=\u001b[39m \u001b[38;5;28;43mself\u001b[39;49m\u001b[38;5;241;43m.\u001b[39;49m\u001b[43mconv1\u001b[49m\u001b[43m(\u001b[49m\u001b[43mx\u001b[49m\u001b[43m)\u001b[49m\n\u001b[1;32m    269\u001b[0m     x \u001b[38;5;241m=\u001b[39m \u001b[38;5;28mself\u001b[39m\u001b[38;5;241m.\u001b[39mbn1(x)\n\u001b[1;32m    270\u001b[0m     x \u001b[38;5;241m=\u001b[39m \u001b[38;5;28mself\u001b[39m\u001b[38;5;241m.\u001b[39mrelu(x)\n",
      "File \u001b[0;32m~/Projects/Pose_detection/.venv/lib/python3.12/site-packages/torch/nn/modules/module.py:1532\u001b[0m, in \u001b[0;36mModule._wrapped_call_impl\u001b[0;34m(self, *args, **kwargs)\u001b[0m\n\u001b[1;32m   1530\u001b[0m     \u001b[38;5;28;01mreturn\u001b[39;00m \u001b[38;5;28mself\u001b[39m\u001b[38;5;241m.\u001b[39m_compiled_call_impl(\u001b[38;5;241m*\u001b[39margs, \u001b[38;5;241m*\u001b[39m\u001b[38;5;241m*\u001b[39mkwargs)  \u001b[38;5;66;03m# type: ignore[misc]\u001b[39;00m\n\u001b[1;32m   1531\u001b[0m \u001b[38;5;28;01melse\u001b[39;00m:\n\u001b[0;32m-> 1532\u001b[0m     \u001b[38;5;28;01mreturn\u001b[39;00m \u001b[38;5;28;43mself\u001b[39;49m\u001b[38;5;241;43m.\u001b[39;49m\u001b[43m_call_impl\u001b[49m\u001b[43m(\u001b[49m\u001b[38;5;241;43m*\u001b[39;49m\u001b[43margs\u001b[49m\u001b[43m,\u001b[49m\u001b[43m \u001b[49m\u001b[38;5;241;43m*\u001b[39;49m\u001b[38;5;241;43m*\u001b[39;49m\u001b[43mkwargs\u001b[49m\u001b[43m)\u001b[49m\n",
      "File \u001b[0;32m~/Projects/Pose_detection/.venv/lib/python3.12/site-packages/torch/nn/modules/module.py:1541\u001b[0m, in \u001b[0;36mModule._call_impl\u001b[0;34m(self, *args, **kwargs)\u001b[0m\n\u001b[1;32m   1536\u001b[0m \u001b[38;5;66;03m# If we don't have any hooks, we want to skip the rest of the logic in\u001b[39;00m\n\u001b[1;32m   1537\u001b[0m \u001b[38;5;66;03m# this function, and just call forward.\u001b[39;00m\n\u001b[1;32m   1538\u001b[0m \u001b[38;5;28;01mif\u001b[39;00m \u001b[38;5;129;01mnot\u001b[39;00m (\u001b[38;5;28mself\u001b[39m\u001b[38;5;241m.\u001b[39m_backward_hooks \u001b[38;5;129;01mor\u001b[39;00m \u001b[38;5;28mself\u001b[39m\u001b[38;5;241m.\u001b[39m_backward_pre_hooks \u001b[38;5;129;01mor\u001b[39;00m \u001b[38;5;28mself\u001b[39m\u001b[38;5;241m.\u001b[39m_forward_hooks \u001b[38;5;129;01mor\u001b[39;00m \u001b[38;5;28mself\u001b[39m\u001b[38;5;241m.\u001b[39m_forward_pre_hooks\n\u001b[1;32m   1539\u001b[0m         \u001b[38;5;129;01mor\u001b[39;00m _global_backward_pre_hooks \u001b[38;5;129;01mor\u001b[39;00m _global_backward_hooks\n\u001b[1;32m   1540\u001b[0m         \u001b[38;5;129;01mor\u001b[39;00m _global_forward_hooks \u001b[38;5;129;01mor\u001b[39;00m _global_forward_pre_hooks):\n\u001b[0;32m-> 1541\u001b[0m     \u001b[38;5;28;01mreturn\u001b[39;00m \u001b[43mforward_call\u001b[49m\u001b[43m(\u001b[49m\u001b[38;5;241;43m*\u001b[39;49m\u001b[43margs\u001b[49m\u001b[43m,\u001b[49m\u001b[43m \u001b[49m\u001b[38;5;241;43m*\u001b[39;49m\u001b[38;5;241;43m*\u001b[39;49m\u001b[43mkwargs\u001b[49m\u001b[43m)\u001b[49m\n\u001b[1;32m   1543\u001b[0m \u001b[38;5;28;01mtry\u001b[39;00m:\n\u001b[1;32m   1544\u001b[0m     result \u001b[38;5;241m=\u001b[39m \u001b[38;5;28;01mNone\u001b[39;00m\n",
      "File \u001b[0;32m~/Projects/Pose_detection/.venv/lib/python3.12/site-packages/torch/nn/modules/conv.py:460\u001b[0m, in \u001b[0;36mConv2d.forward\u001b[0;34m(self, input)\u001b[0m\n\u001b[1;32m    459\u001b[0m \u001b[38;5;28;01mdef\u001b[39;00m \u001b[38;5;21mforward\u001b[39m(\u001b[38;5;28mself\u001b[39m, \u001b[38;5;28minput\u001b[39m: Tensor) \u001b[38;5;241m-\u001b[39m\u001b[38;5;241m>\u001b[39m Tensor:\n\u001b[0;32m--> 460\u001b[0m     \u001b[38;5;28;01mreturn\u001b[39;00m \u001b[38;5;28;43mself\u001b[39;49m\u001b[38;5;241;43m.\u001b[39;49m\u001b[43m_conv_forward\u001b[49m\u001b[43m(\u001b[49m\u001b[38;5;28;43minput\u001b[39;49m\u001b[43m,\u001b[49m\u001b[43m \u001b[49m\u001b[38;5;28;43mself\u001b[39;49m\u001b[38;5;241;43m.\u001b[39;49m\u001b[43mweight\u001b[49m\u001b[43m,\u001b[49m\u001b[43m \u001b[49m\u001b[38;5;28;43mself\u001b[39;49m\u001b[38;5;241;43m.\u001b[39;49m\u001b[43mbias\u001b[49m\u001b[43m)\u001b[49m\n",
      "File \u001b[0;32m~/Projects/Pose_detection/.venv/lib/python3.12/site-packages/torch/nn/modules/conv.py:456\u001b[0m, in \u001b[0;36mConv2d._conv_forward\u001b[0;34m(self, input, weight, bias)\u001b[0m\n\u001b[1;32m    452\u001b[0m \u001b[38;5;28;01mif\u001b[39;00m \u001b[38;5;28mself\u001b[39m\u001b[38;5;241m.\u001b[39mpadding_mode \u001b[38;5;241m!=\u001b[39m \u001b[38;5;124m'\u001b[39m\u001b[38;5;124mzeros\u001b[39m\u001b[38;5;124m'\u001b[39m:\n\u001b[1;32m    453\u001b[0m     \u001b[38;5;28;01mreturn\u001b[39;00m F\u001b[38;5;241m.\u001b[39mconv2d(F\u001b[38;5;241m.\u001b[39mpad(\u001b[38;5;28minput\u001b[39m, \u001b[38;5;28mself\u001b[39m\u001b[38;5;241m.\u001b[39m_reversed_padding_repeated_twice, mode\u001b[38;5;241m=\u001b[39m\u001b[38;5;28mself\u001b[39m\u001b[38;5;241m.\u001b[39mpadding_mode),\n\u001b[1;32m    454\u001b[0m                     weight, bias, \u001b[38;5;28mself\u001b[39m\u001b[38;5;241m.\u001b[39mstride,\n\u001b[1;32m    455\u001b[0m                     _pair(\u001b[38;5;241m0\u001b[39m), \u001b[38;5;28mself\u001b[39m\u001b[38;5;241m.\u001b[39mdilation, \u001b[38;5;28mself\u001b[39m\u001b[38;5;241m.\u001b[39mgroups)\n\u001b[0;32m--> 456\u001b[0m \u001b[38;5;28;01mreturn\u001b[39;00m \u001b[43mF\u001b[49m\u001b[38;5;241;43m.\u001b[39;49m\u001b[43mconv2d\u001b[49m\u001b[43m(\u001b[49m\u001b[38;5;28;43minput\u001b[39;49m\u001b[43m,\u001b[49m\u001b[43m \u001b[49m\u001b[43mweight\u001b[49m\u001b[43m,\u001b[49m\u001b[43m \u001b[49m\u001b[43mbias\u001b[49m\u001b[43m,\u001b[49m\u001b[43m \u001b[49m\u001b[38;5;28;43mself\u001b[39;49m\u001b[38;5;241;43m.\u001b[39;49m\u001b[43mstride\u001b[49m\u001b[43m,\u001b[49m\n\u001b[1;32m    457\u001b[0m \u001b[43m                \u001b[49m\u001b[38;5;28;43mself\u001b[39;49m\u001b[38;5;241;43m.\u001b[39;49m\u001b[43mpadding\u001b[49m\u001b[43m,\u001b[49m\u001b[43m \u001b[49m\u001b[38;5;28;43mself\u001b[39;49m\u001b[38;5;241;43m.\u001b[39;49m\u001b[43mdilation\u001b[49m\u001b[43m,\u001b[49m\u001b[43m \u001b[49m\u001b[38;5;28;43mself\u001b[39;49m\u001b[38;5;241;43m.\u001b[39;49m\u001b[43mgroups\u001b[49m\u001b[43m)\u001b[49m\n",
      "\u001b[0;31mRuntimeError\u001b[0m: Given groups=1, weight of size [64, 3, 7, 7], expected input[1, 88, 33, 2] to have 3 channels, but got 88 channels instead"
     ]
    }
   ],
   "source": [
    "import torch\n",
    "import torchvision.models as models\n",
    "import torchvision.transforms as transforms\n",
    "import torch.hub\n",
    "\n",
    "# Load pre-trained ResNet-50 model\n",
    "model = models.resnet50(pretrained=True)\n",
    "model.eval()  # Set to evaluation mode\n",
    "\n",
    "# Normalize coordinates to [0, 1]\n",
    "coordinates_normalized = (coordinates_video1 - coordinates_video1.min()) / (coordinates_video1.max() - coordinates_video1.min())\n",
    "\n",
    "# Convert to uint8 for image-like data\n",
    "coordinates_uint8 = (coordinates_normalized * 255).astype(np.uint8)\n",
    "\n",
    "# Prepare data tensor for inference\n",
    "data_tensor = torch.tensor(coordinates_video1, dtype=torch.float32)\n",
    "data_tensor = data_tensor.unsqueeze(0)  # Add batch dimension if necessary\n",
    "\n",
    "# Perform inference\n",
    "with torch.no_grad():\n",
    "    outputs = model(data_tensor)\n",
    "\n",
    "# Example: Get predicted class index (assuming classification task)\n",
    "_, predicted = torch.max(outputs, 1)\n",
    "predicted_label = predicted.item()\n",
    "\n",
    "print(f\"Predicted label index: {predicted_label}\")\n"
   ]
  },
  {
   "cell_type": "code",
   "execution_count": 23,
   "metadata": {},
   "outputs": [
    {
     "ename": "RuntimeError",
     "evalue": "Given groups=1, weight of size [64, 3, 7, 7], expected input[1, 2, 88, 33] to have 3 channels, but got 2 channels instead",
     "output_type": "error",
     "traceback": [
      "\u001b[0;31m---------------------------------------------------------------------------\u001b[0m",
      "\u001b[0;31mRuntimeError\u001b[0m                              Traceback (most recent call last)",
      "Cell \u001b[0;32mIn[23], line 43\u001b[0m\n\u001b[1;32m     41\u001b[0m \u001b[38;5;66;03m# Perform inference\u001b[39;00m\n\u001b[1;32m     42\u001b[0m \u001b[38;5;28;01mwith\u001b[39;00m torch\u001b[38;5;241m.\u001b[39mno_grad():\n\u001b[0;32m---> 43\u001b[0m     outputs \u001b[38;5;241m=\u001b[39m \u001b[43mmodel\u001b[49m\u001b[43m(\u001b[49m\u001b[43mdata_tensor\u001b[49m\u001b[43m)\u001b[49m\n\u001b[1;32m     45\u001b[0m \u001b[38;5;66;03m# Example: Get predicted class index (assuming classification task)\u001b[39;00m\n\u001b[1;32m     46\u001b[0m _, predicted \u001b[38;5;241m=\u001b[39m torch\u001b[38;5;241m.\u001b[39mmax(outputs, \u001b[38;5;241m1\u001b[39m)\n",
      "File \u001b[0;32m~/Projects/Pose_detection/.venv/lib/python3.12/site-packages/torch/nn/modules/module.py:1532\u001b[0m, in \u001b[0;36mModule._wrapped_call_impl\u001b[0;34m(self, *args, **kwargs)\u001b[0m\n\u001b[1;32m   1530\u001b[0m     \u001b[38;5;28;01mreturn\u001b[39;00m \u001b[38;5;28mself\u001b[39m\u001b[38;5;241m.\u001b[39m_compiled_call_impl(\u001b[38;5;241m*\u001b[39margs, \u001b[38;5;241m*\u001b[39m\u001b[38;5;241m*\u001b[39mkwargs)  \u001b[38;5;66;03m# type: ignore[misc]\u001b[39;00m\n\u001b[1;32m   1531\u001b[0m \u001b[38;5;28;01melse\u001b[39;00m:\n\u001b[0;32m-> 1532\u001b[0m     \u001b[38;5;28;01mreturn\u001b[39;00m \u001b[38;5;28;43mself\u001b[39;49m\u001b[38;5;241;43m.\u001b[39;49m\u001b[43m_call_impl\u001b[49m\u001b[43m(\u001b[49m\u001b[38;5;241;43m*\u001b[39;49m\u001b[43margs\u001b[49m\u001b[43m,\u001b[49m\u001b[43m \u001b[49m\u001b[38;5;241;43m*\u001b[39;49m\u001b[38;5;241;43m*\u001b[39;49m\u001b[43mkwargs\u001b[49m\u001b[43m)\u001b[49m\n",
      "File \u001b[0;32m~/Projects/Pose_detection/.venv/lib/python3.12/site-packages/torch/nn/modules/module.py:1541\u001b[0m, in \u001b[0;36mModule._call_impl\u001b[0;34m(self, *args, **kwargs)\u001b[0m\n\u001b[1;32m   1536\u001b[0m \u001b[38;5;66;03m# If we don't have any hooks, we want to skip the rest of the logic in\u001b[39;00m\n\u001b[1;32m   1537\u001b[0m \u001b[38;5;66;03m# this function, and just call forward.\u001b[39;00m\n\u001b[1;32m   1538\u001b[0m \u001b[38;5;28;01mif\u001b[39;00m \u001b[38;5;129;01mnot\u001b[39;00m (\u001b[38;5;28mself\u001b[39m\u001b[38;5;241m.\u001b[39m_backward_hooks \u001b[38;5;129;01mor\u001b[39;00m \u001b[38;5;28mself\u001b[39m\u001b[38;5;241m.\u001b[39m_backward_pre_hooks \u001b[38;5;129;01mor\u001b[39;00m \u001b[38;5;28mself\u001b[39m\u001b[38;5;241m.\u001b[39m_forward_hooks \u001b[38;5;129;01mor\u001b[39;00m \u001b[38;5;28mself\u001b[39m\u001b[38;5;241m.\u001b[39m_forward_pre_hooks\n\u001b[1;32m   1539\u001b[0m         \u001b[38;5;129;01mor\u001b[39;00m _global_backward_pre_hooks \u001b[38;5;129;01mor\u001b[39;00m _global_backward_hooks\n\u001b[1;32m   1540\u001b[0m         \u001b[38;5;129;01mor\u001b[39;00m _global_forward_hooks \u001b[38;5;129;01mor\u001b[39;00m _global_forward_pre_hooks):\n\u001b[0;32m-> 1541\u001b[0m     \u001b[38;5;28;01mreturn\u001b[39;00m \u001b[43mforward_call\u001b[49m\u001b[43m(\u001b[49m\u001b[38;5;241;43m*\u001b[39;49m\u001b[43margs\u001b[49m\u001b[43m,\u001b[49m\u001b[43m \u001b[49m\u001b[38;5;241;43m*\u001b[39;49m\u001b[38;5;241;43m*\u001b[39;49m\u001b[43mkwargs\u001b[49m\u001b[43m)\u001b[49m\n\u001b[1;32m   1543\u001b[0m \u001b[38;5;28;01mtry\u001b[39;00m:\n\u001b[1;32m   1544\u001b[0m     result \u001b[38;5;241m=\u001b[39m \u001b[38;5;28;01mNone\u001b[39;00m\n",
      "File \u001b[0;32m~/Projects/Pose_detection/.venv/lib/python3.12/site-packages/torchvision/models/resnet.py:285\u001b[0m, in \u001b[0;36mResNet.forward\u001b[0;34m(self, x)\u001b[0m\n\u001b[1;32m    284\u001b[0m \u001b[38;5;28;01mdef\u001b[39;00m \u001b[38;5;21mforward\u001b[39m(\u001b[38;5;28mself\u001b[39m, x: Tensor) \u001b[38;5;241m-\u001b[39m\u001b[38;5;241m>\u001b[39m Tensor:\n\u001b[0;32m--> 285\u001b[0m     \u001b[38;5;28;01mreturn\u001b[39;00m \u001b[38;5;28;43mself\u001b[39;49m\u001b[38;5;241;43m.\u001b[39;49m\u001b[43m_forward_impl\u001b[49m\u001b[43m(\u001b[49m\u001b[43mx\u001b[49m\u001b[43m)\u001b[49m\n",
      "File \u001b[0;32m~/Projects/Pose_detection/.venv/lib/python3.12/site-packages/torchvision/models/resnet.py:268\u001b[0m, in \u001b[0;36mResNet._forward_impl\u001b[0;34m(self, x)\u001b[0m\n\u001b[1;32m    266\u001b[0m \u001b[38;5;28;01mdef\u001b[39;00m \u001b[38;5;21m_forward_impl\u001b[39m(\u001b[38;5;28mself\u001b[39m, x: Tensor) \u001b[38;5;241m-\u001b[39m\u001b[38;5;241m>\u001b[39m Tensor:\n\u001b[1;32m    267\u001b[0m     \u001b[38;5;66;03m# See note [TorchScript super()]\u001b[39;00m\n\u001b[0;32m--> 268\u001b[0m     x \u001b[38;5;241m=\u001b[39m \u001b[38;5;28;43mself\u001b[39;49m\u001b[38;5;241;43m.\u001b[39;49m\u001b[43mconv1\u001b[49m\u001b[43m(\u001b[49m\u001b[43mx\u001b[49m\u001b[43m)\u001b[49m\n\u001b[1;32m    269\u001b[0m     x \u001b[38;5;241m=\u001b[39m \u001b[38;5;28mself\u001b[39m\u001b[38;5;241m.\u001b[39mbn1(x)\n\u001b[1;32m    270\u001b[0m     x \u001b[38;5;241m=\u001b[39m \u001b[38;5;28mself\u001b[39m\u001b[38;5;241m.\u001b[39mrelu(x)\n",
      "File \u001b[0;32m~/Projects/Pose_detection/.venv/lib/python3.12/site-packages/torch/nn/modules/module.py:1532\u001b[0m, in \u001b[0;36mModule._wrapped_call_impl\u001b[0;34m(self, *args, **kwargs)\u001b[0m\n\u001b[1;32m   1530\u001b[0m     \u001b[38;5;28;01mreturn\u001b[39;00m \u001b[38;5;28mself\u001b[39m\u001b[38;5;241m.\u001b[39m_compiled_call_impl(\u001b[38;5;241m*\u001b[39margs, \u001b[38;5;241m*\u001b[39m\u001b[38;5;241m*\u001b[39mkwargs)  \u001b[38;5;66;03m# type: ignore[misc]\u001b[39;00m\n\u001b[1;32m   1531\u001b[0m \u001b[38;5;28;01melse\u001b[39;00m:\n\u001b[0;32m-> 1532\u001b[0m     \u001b[38;5;28;01mreturn\u001b[39;00m \u001b[38;5;28;43mself\u001b[39;49m\u001b[38;5;241;43m.\u001b[39;49m\u001b[43m_call_impl\u001b[49m\u001b[43m(\u001b[49m\u001b[38;5;241;43m*\u001b[39;49m\u001b[43margs\u001b[49m\u001b[43m,\u001b[49m\u001b[43m \u001b[49m\u001b[38;5;241;43m*\u001b[39;49m\u001b[38;5;241;43m*\u001b[39;49m\u001b[43mkwargs\u001b[49m\u001b[43m)\u001b[49m\n",
      "File \u001b[0;32m~/Projects/Pose_detection/.venv/lib/python3.12/site-packages/torch/nn/modules/module.py:1541\u001b[0m, in \u001b[0;36mModule._call_impl\u001b[0;34m(self, *args, **kwargs)\u001b[0m\n\u001b[1;32m   1536\u001b[0m \u001b[38;5;66;03m# If we don't have any hooks, we want to skip the rest of the logic in\u001b[39;00m\n\u001b[1;32m   1537\u001b[0m \u001b[38;5;66;03m# this function, and just call forward.\u001b[39;00m\n\u001b[1;32m   1538\u001b[0m \u001b[38;5;28;01mif\u001b[39;00m \u001b[38;5;129;01mnot\u001b[39;00m (\u001b[38;5;28mself\u001b[39m\u001b[38;5;241m.\u001b[39m_backward_hooks \u001b[38;5;129;01mor\u001b[39;00m \u001b[38;5;28mself\u001b[39m\u001b[38;5;241m.\u001b[39m_backward_pre_hooks \u001b[38;5;129;01mor\u001b[39;00m \u001b[38;5;28mself\u001b[39m\u001b[38;5;241m.\u001b[39m_forward_hooks \u001b[38;5;129;01mor\u001b[39;00m \u001b[38;5;28mself\u001b[39m\u001b[38;5;241m.\u001b[39m_forward_pre_hooks\n\u001b[1;32m   1539\u001b[0m         \u001b[38;5;129;01mor\u001b[39;00m _global_backward_pre_hooks \u001b[38;5;129;01mor\u001b[39;00m _global_backward_hooks\n\u001b[1;32m   1540\u001b[0m         \u001b[38;5;129;01mor\u001b[39;00m _global_forward_hooks \u001b[38;5;129;01mor\u001b[39;00m _global_forward_pre_hooks):\n\u001b[0;32m-> 1541\u001b[0m     \u001b[38;5;28;01mreturn\u001b[39;00m \u001b[43mforward_call\u001b[49m\u001b[43m(\u001b[49m\u001b[38;5;241;43m*\u001b[39;49m\u001b[43margs\u001b[49m\u001b[43m,\u001b[49m\u001b[43m \u001b[49m\u001b[38;5;241;43m*\u001b[39;49m\u001b[38;5;241;43m*\u001b[39;49m\u001b[43mkwargs\u001b[49m\u001b[43m)\u001b[49m\n\u001b[1;32m   1543\u001b[0m \u001b[38;5;28;01mtry\u001b[39;00m:\n\u001b[1;32m   1544\u001b[0m     result \u001b[38;5;241m=\u001b[39m \u001b[38;5;28;01mNone\u001b[39;00m\n",
      "File \u001b[0;32m~/Projects/Pose_detection/.venv/lib/python3.12/site-packages/torch/nn/modules/conv.py:460\u001b[0m, in \u001b[0;36mConv2d.forward\u001b[0;34m(self, input)\u001b[0m\n\u001b[1;32m    459\u001b[0m \u001b[38;5;28;01mdef\u001b[39;00m \u001b[38;5;21mforward\u001b[39m(\u001b[38;5;28mself\u001b[39m, \u001b[38;5;28minput\u001b[39m: Tensor) \u001b[38;5;241m-\u001b[39m\u001b[38;5;241m>\u001b[39m Tensor:\n\u001b[0;32m--> 460\u001b[0m     \u001b[38;5;28;01mreturn\u001b[39;00m \u001b[38;5;28;43mself\u001b[39;49m\u001b[38;5;241;43m.\u001b[39;49m\u001b[43m_conv_forward\u001b[49m\u001b[43m(\u001b[49m\u001b[38;5;28;43minput\u001b[39;49m\u001b[43m,\u001b[49m\u001b[43m \u001b[49m\u001b[38;5;28;43mself\u001b[39;49m\u001b[38;5;241;43m.\u001b[39;49m\u001b[43mweight\u001b[49m\u001b[43m,\u001b[49m\u001b[43m \u001b[49m\u001b[38;5;28;43mself\u001b[39;49m\u001b[38;5;241;43m.\u001b[39;49m\u001b[43mbias\u001b[49m\u001b[43m)\u001b[49m\n",
      "File \u001b[0;32m~/Projects/Pose_detection/.venv/lib/python3.12/site-packages/torch/nn/modules/conv.py:456\u001b[0m, in \u001b[0;36mConv2d._conv_forward\u001b[0;34m(self, input, weight, bias)\u001b[0m\n\u001b[1;32m    452\u001b[0m \u001b[38;5;28;01mif\u001b[39;00m \u001b[38;5;28mself\u001b[39m\u001b[38;5;241m.\u001b[39mpadding_mode \u001b[38;5;241m!=\u001b[39m \u001b[38;5;124m'\u001b[39m\u001b[38;5;124mzeros\u001b[39m\u001b[38;5;124m'\u001b[39m:\n\u001b[1;32m    453\u001b[0m     \u001b[38;5;28;01mreturn\u001b[39;00m F\u001b[38;5;241m.\u001b[39mconv2d(F\u001b[38;5;241m.\u001b[39mpad(\u001b[38;5;28minput\u001b[39m, \u001b[38;5;28mself\u001b[39m\u001b[38;5;241m.\u001b[39m_reversed_padding_repeated_twice, mode\u001b[38;5;241m=\u001b[39m\u001b[38;5;28mself\u001b[39m\u001b[38;5;241m.\u001b[39mpadding_mode),\n\u001b[1;32m    454\u001b[0m                     weight, bias, \u001b[38;5;28mself\u001b[39m\u001b[38;5;241m.\u001b[39mstride,\n\u001b[1;32m    455\u001b[0m                     _pair(\u001b[38;5;241m0\u001b[39m), \u001b[38;5;28mself\u001b[39m\u001b[38;5;241m.\u001b[39mdilation, \u001b[38;5;28mself\u001b[39m\u001b[38;5;241m.\u001b[39mgroups)\n\u001b[0;32m--> 456\u001b[0m \u001b[38;5;28;01mreturn\u001b[39;00m \u001b[43mF\u001b[49m\u001b[38;5;241;43m.\u001b[39;49m\u001b[43mconv2d\u001b[49m\u001b[43m(\u001b[49m\u001b[38;5;28;43minput\u001b[39;49m\u001b[43m,\u001b[49m\u001b[43m \u001b[49m\u001b[43mweight\u001b[49m\u001b[43m,\u001b[49m\u001b[43m \u001b[49m\u001b[43mbias\u001b[49m\u001b[43m,\u001b[49m\u001b[43m \u001b[49m\u001b[38;5;28;43mself\u001b[39;49m\u001b[38;5;241;43m.\u001b[39;49m\u001b[43mstride\u001b[49m\u001b[43m,\u001b[49m\n\u001b[1;32m    457\u001b[0m \u001b[43m                \u001b[49m\u001b[38;5;28;43mself\u001b[39;49m\u001b[38;5;241;43m.\u001b[39;49m\u001b[43mpadding\u001b[49m\u001b[43m,\u001b[49m\u001b[43m \u001b[49m\u001b[38;5;28;43mself\u001b[39;49m\u001b[38;5;241;43m.\u001b[39;49m\u001b[43mdilation\u001b[49m\u001b[43m,\u001b[49m\u001b[43m \u001b[49m\u001b[38;5;28;43mself\u001b[39;49m\u001b[38;5;241;43m.\u001b[39;49m\u001b[43mgroups\u001b[49m\u001b[43m)\u001b[49m\n",
      "\u001b[0;31mRuntimeError\u001b[0m: Given groups=1, weight of size [64, 3, 7, 7], expected input[1, 2, 88, 33] to have 3 channels, but got 2 channels instead"
     ]
    }
   ],
   "source": [
    "import torch\n",
    "import torchvision.models as models\n",
    "import torchvision.transforms as transforms\n",
    "import numpy as np\n",
    "\n",
    "# Assuming coordinates_video1 is your input data tensor with shape [88, 33, 2]\n",
    "\n",
    "# Example: Convert coordinates_video1 to a 3-channel image-like tensor\n",
    "# You should adjust this part based on how your data should be converted to an image format\n",
    "# Here we are creating a dummy RGB-like image from the coordinates\n",
    "# You should replace this with your actual preprocessing logic\n",
    "\n",
    "\n",
    "\n",
    "# Normalize coordinates to [0, 1]\n",
    "coordinates_normalized = (coordinates_video1 - coordinates_video1.min()) / (coordinates_video1.max() - coordinates_video1.min())\n",
    "\n",
    "# Convert to uint8 for image-like data\n",
    "coordinates_uint8 = (coordinates_normalized * 255).astype(np.uint8)\n",
    "\n",
    "# Assuming coordinates_uint8 now has shape [88, 33, 3] representing RGB-like image\n",
    "# Convert to PyTorch tensor and add batch dimension\n",
    "data_tensor = torch.tensor(coordinates_uint8, dtype=torch.float32).permute(2, 0, 1).unsqueeze(0)\n",
    "\n",
    "# Define torchvision transform to normalize the image data\n",
    "# Adjust mean and std tensors to match the number of channels in data_tensor\n",
    "mean = [0.5] * 2  # Example mean values for 2 channels\n",
    "std = [0.5] * 2   # Example std values for 2 channels\n",
    "\n",
    "transform = transforms.Compose([\n",
    "    transforms.Normalize(mean=mean, std=std),\n",
    "])\n",
    "\n",
    "# Apply normalization transform\n",
    "data_tensor = transform(data_tensor)\n",
    "\n",
    "# Load pre-trained ResNet-50 model\n",
    "model = models.resnet50(pretrained=True)\n",
    "model.eval()  # Set to evaluation mode\n",
    "\n",
    "# Perform inference\n",
    "with torch.no_grad():\n",
    "    outputs = model(data_tensor)\n",
    "\n",
    "# Example: Get predicted class index (assuming classification task)\n",
    "_, predicted = torch.max(outputs, 1)\n",
    "predicted_label = predicted.item()\n",
    "\n",
    "print(f\"Predicted label index: {predicted_label}\")\n"
   ]
  }
 ],
 "metadata": {
  "kernelspec": {
   "display_name": ".venv",
   "language": "python",
   "name": "python3"
  },
  "language_info": {
   "codemirror_mode": {
    "name": "ipython",
    "version": 3
   },
   "file_extension": ".py",
   "mimetype": "text/x-python",
   "name": "python",
   "nbconvert_exporter": "python",
   "pygments_lexer": "ipython3",
   "version": "3.12.3"
  }
 },
 "nbformat": 4,
 "nbformat_minor": 2
}
